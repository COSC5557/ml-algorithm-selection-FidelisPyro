{
 "cells": [
  {
   "cell_type": "code",
   "execution_count": null,
   "metadata": {},
   "outputs": [],
   "source": [
    "Report of ML Algorithm Selection\n",
    "\n",
    "Introduction\n",
    "The problem we have as a society is being able to accurately tell if a wine is of good quality or not. The  \n",
    "normal method to fix this problem would be enduring the rigorous and tedious process of learning how to tell  \n",
    "wines apart and how to determine their quality based on their labels. Instead of trying to do this, I created   \n",
    "a machine learning algorithm to aid in predicting the quality of a wine. This algorithm takes the five most  \n",
    "important features of wine to determine the quality and uses those to predict the quality of that red wine. \n",
    "\n",
    "Dataset Description\n",
    "The dataset used is a red wine dataset, that has eleven distinct features of wine.   \n",
    "Those eleven features are: fixed acidity, volatile acidity, citric acid, residual sugar, chlorides,   \n",
    "free sulfur dioxide, total sulfur dioxide, density, pH, sulphates, alcohol, and quality.   \n",
    "There are no missing values in this dataset, and during training, the quality category is removed and used   \n",
    "to compare the predicted results to the actual results.\n",
    "\n",
    "Experimental Setup\n",
    "To make things simpler for the algorithm, I created a correlation matrix of the eleven features and used that   \n",
    "correlation matrix to determine the five most important of those features to determine the quality. Then I split  \n",
    "the dataset into three datasets, a training set, a validation set, and a test set, with a 60/20/20 split  \n",
    "respectively. There exist many types of machine learning models and selecting one proved a difficult decision.   \n",
    "Instead, I had a model selection process occur. This process ran the dataset through four different types of  \n",
    "classification models: Random Forest, Support Vector Classifier (SVC), a Neural Network (NN), and K-Nearest  \n",
    "Neighbor (KNN) model. It trained all models on the training set then compared them selecting the one that had   \n",
    "the highest results on the validation set. With the model selected, it then runs that model on the, up till now   \n",
    "unseen, test set to get the generalization error estimate. \n",
    "\n",
    "Results\n",
    "The results the model yielded were all relatively close, however, random forest had the highest accuracy, and   \n",
    "was the model selected. Random Forest: 0.61875, KNN: 0.58125, NN: 0.565625, and SVC: 0.559375. One random forest  \n",
    "was selected as the best model is ran again on the test set which yielded an accuracy of 0.590625. Confusion   \n",
    "matrices are included below with the final random forest on the test set being the last one. \n"
   ]
  }
 ],
 "metadata": {
  "language_info": {
   "name": "python"
  }
 },
 "nbformat": 4,
 "nbformat_minor": 2
}
